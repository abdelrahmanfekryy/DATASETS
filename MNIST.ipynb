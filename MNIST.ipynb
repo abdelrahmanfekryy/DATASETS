{
 "cells": [
  {
   "cell_type": "code",
   "execution_count": 1,
   "metadata": {},
   "outputs": [],
   "source": [
    "from torchvision import datasets\n",
    "import idx2numpy\n",
    "import numpy as np\n",
    "import pandas as pd\n",
    "import base64\n",
    "import cv2\n",
    "from IPython.display import display,HTML"
   ]
  },
  {
   "cell_type": "code",
   "execution_count": 2,
   "metadata": {},
   "outputs": [
    {
     "data": {
      "text/plain": [
       "Dataset MNIST\n",
       "    Number of datapoints: 60000\n",
       "    Root location: MNIST\n",
       "    Split: Train"
      ]
     },
     "execution_count": 2,
     "metadata": {},
     "output_type": "execute_result"
    }
   ],
   "source": [
    "datasets.MNIST(\"MNIST\", download=True)"
   ]
  },
  {
   "cell_type": "code",
   "execution_count": 3,
   "metadata": {},
   "outputs": [],
   "source": [
    "x_train = idx2numpy.convert_from_file(\"MNIST/MNIST/raw/train-images-idx3-ubyte\")\n",
    "y_train = idx2numpy.convert_from_file(\"MNIST/MNIST/raw/train-labels-idx1-ubyte\")\n",
    "x_test = idx2numpy.convert_from_file(\"MNIST/MNIST/raw/t10k-images-idx3-ubyte\")\n",
    "y_test = idx2numpy.convert_from_file(\"MNIST/MNIST/raw/t10k-labels-idx1-ubyte\")"
   ]
  },
  {
   "cell_type": "code",
   "execution_count": 4,
   "metadata": {},
   "outputs": [
    {
     "data": {
      "text/html": [
       "<div>\n",
       "<style scoped>\n",
       "    .dataframe tbody tr th:only-of-type {\n",
       "        vertical-align: middle;\n",
       "    }\n",
       "\n",
       "    .dataframe tbody tr th {\n",
       "        vertical-align: top;\n",
       "    }\n",
       "\n",
       "    .dataframe thead th {\n",
       "        text-align: right;\n",
       "    }\n",
       "</style>\n",
       "<table border=\"1\" class=\"dataframe\">\n",
       "  <thead>\n",
       "    <tr style=\"text-align: right;\">\n",
       "      <th></th>\n",
       "      <th>image</th>\n",
       "      <th>label</th>\n",
       "      <th>is_train</th>\n",
       "    </tr>\n",
       "  </thead>\n",
       "  <tbody>\n",
       "    <tr>\n",
       "      <th>0</th>\n",
       "      <td>[[0, 0, 0, 0, 0, 0, 0, 0, 0, 0, 0, 0, 0, 0, 0,...</td>\n",
       "      <td>5</td>\n",
       "      <td>1</td>\n",
       "    </tr>\n",
       "    <tr>\n",
       "      <th>1</th>\n",
       "      <td>[[0, 0, 0, 0, 0, 0, 0, 0, 0, 0, 0, 0, 0, 0, 0,...</td>\n",
       "      <td>0</td>\n",
       "      <td>1</td>\n",
       "    </tr>\n",
       "    <tr>\n",
       "      <th>2</th>\n",
       "      <td>[[0, 0, 0, 0, 0, 0, 0, 0, 0, 0, 0, 0, 0, 0, 0,...</td>\n",
       "      <td>4</td>\n",
       "      <td>1</td>\n",
       "    </tr>\n",
       "    <tr>\n",
       "      <th>3</th>\n",
       "      <td>[[0, 0, 0, 0, 0, 0, 0, 0, 0, 0, 0, 0, 0, 0, 0,...</td>\n",
       "      <td>1</td>\n",
       "      <td>1</td>\n",
       "    </tr>\n",
       "    <tr>\n",
       "      <th>4</th>\n",
       "      <td>[[0, 0, 0, 0, 0, 0, 0, 0, 0, 0, 0, 0, 0, 0, 0,...</td>\n",
       "      <td>9</td>\n",
       "      <td>1</td>\n",
       "    </tr>\n",
       "    <tr>\n",
       "      <th>...</th>\n",
       "      <td>...</td>\n",
       "      <td>...</td>\n",
       "      <td>...</td>\n",
       "    </tr>\n",
       "    <tr>\n",
       "      <th>69995</th>\n",
       "      <td>[[0, 0, 0, 0, 0, 0, 0, 0, 0, 0, 0, 0, 0, 0, 0,...</td>\n",
       "      <td>2</td>\n",
       "      <td>0</td>\n",
       "    </tr>\n",
       "    <tr>\n",
       "      <th>69996</th>\n",
       "      <td>[[0, 0, 0, 0, 0, 0, 0, 0, 0, 0, 0, 0, 0, 0, 0,...</td>\n",
       "      <td>3</td>\n",
       "      <td>0</td>\n",
       "    </tr>\n",
       "    <tr>\n",
       "      <th>69997</th>\n",
       "      <td>[[0, 0, 0, 0, 0, 0, 0, 0, 0, 0, 0, 0, 0, 0, 0,...</td>\n",
       "      <td>4</td>\n",
       "      <td>0</td>\n",
       "    </tr>\n",
       "    <tr>\n",
       "      <th>69998</th>\n",
       "      <td>[[0, 0, 0, 0, 0, 0, 0, 0, 0, 0, 0, 0, 0, 0, 0,...</td>\n",
       "      <td>5</td>\n",
       "      <td>0</td>\n",
       "    </tr>\n",
       "    <tr>\n",
       "      <th>69999</th>\n",
       "      <td>[[0, 0, 0, 0, 0, 0, 0, 0, 0, 0, 0, 0, 0, 0, 0,...</td>\n",
       "      <td>6</td>\n",
       "      <td>0</td>\n",
       "    </tr>\n",
       "  </tbody>\n",
       "</table>\n",
       "<p>70000 rows × 3 columns</p>\n",
       "</div>"
      ],
      "text/plain": [
       "                                                   image  label  is_train\n",
       "0      [[0, 0, 0, 0, 0, 0, 0, 0, 0, 0, 0, 0, 0, 0, 0,...      5         1\n",
       "1      [[0, 0, 0, 0, 0, 0, 0, 0, 0, 0, 0, 0, 0, 0, 0,...      0         1\n",
       "2      [[0, 0, 0, 0, 0, 0, 0, 0, 0, 0, 0, 0, 0, 0, 0,...      4         1\n",
       "3      [[0, 0, 0, 0, 0, 0, 0, 0, 0, 0, 0, 0, 0, 0, 0,...      1         1\n",
       "4      [[0, 0, 0, 0, 0, 0, 0, 0, 0, 0, 0, 0, 0, 0, 0,...      9         1\n",
       "...                                                  ...    ...       ...\n",
       "69995  [[0, 0, 0, 0, 0, 0, 0, 0, 0, 0, 0, 0, 0, 0, 0,...      2         0\n",
       "69996  [[0, 0, 0, 0, 0, 0, 0, 0, 0, 0, 0, 0, 0, 0, 0,...      3         0\n",
       "69997  [[0, 0, 0, 0, 0, 0, 0, 0, 0, 0, 0, 0, 0, 0, 0,...      4         0\n",
       "69998  [[0, 0, 0, 0, 0, 0, 0, 0, 0, 0, 0, 0, 0, 0, 0,...      5         0\n",
       "69999  [[0, 0, 0, 0, 0, 0, 0, 0, 0, 0, 0, 0, 0, 0, 0,...      6         0\n",
       "\n",
       "[70000 rows x 3 columns]"
      ]
     },
     "execution_count": 4,
     "metadata": {},
     "output_type": "execute_result"
    }
   ],
   "source": [
    "train = pd.DataFrame({\"image\":x_train.tolist(),\"label\":y_train,\"is_train\":1})\n",
    "test = pd.DataFrame({\"image\":x_test.tolist(),\"label\":y_test,\"is_train\":0})\n",
    "data = pd.concat([train,test],axis=0,ignore_index=True)\n",
    "data"
   ]
  },
  {
   "cell_type": "code",
   "execution_count": 5,
   "metadata": {},
   "outputs": [],
   "source": [
    "data['image_base64'] = data['image'].apply(lambda x : base64.b64encode(cv2.imencode('.png',np.array(x))[1].tobytes()).decode('utf-8'))"
   ]
  },
  {
   "cell_type": "code",
   "execution_count": 6,
   "metadata": {},
   "outputs": [
    {
     "data": {
      "text/html": [
       "<div>\n",
       "<style scoped>\n",
       "    .dataframe tbody tr th:only-of-type {\n",
       "        vertical-align: middle;\n",
       "    }\n",
       "\n",
       "    .dataframe tbody tr th {\n",
       "        vertical-align: top;\n",
       "    }\n",
       "\n",
       "    .dataframe thead th {\n",
       "        text-align: right;\n",
       "    }\n",
       "</style>\n",
       "<table border=\"1\" class=\"dataframe\">\n",
       "  <thead>\n",
       "    <tr style=\"text-align: right;\">\n",
       "      <th></th>\n",
       "      <th>image</th>\n",
       "      <th>label</th>\n",
       "      <th>is_train</th>\n",
       "      <th>image_base64</th>\n",
       "    </tr>\n",
       "  </thead>\n",
       "  <tbody>\n",
       "    <tr>\n",
       "      <th>0</th>\n",
       "      <td>[[0, 0, 0, 0, 0, 0, 0, 0, 0, 0, 0, 0, 0, 0, 0,...</td>\n",
       "      <td>5</td>\n",
       "      <td>1</td>\n",
       "      <td>iVBORw0KGgoAAAANSUhEUgAAABwAAAAcCAAAAABXZoBIAA...</td>\n",
       "    </tr>\n",
       "    <tr>\n",
       "      <th>1</th>\n",
       "      <td>[[0, 0, 0, 0, 0, 0, 0, 0, 0, 0, 0, 0, 0, 0, 0,...</td>\n",
       "      <td>0</td>\n",
       "      <td>1</td>\n",
       "      <td>iVBORw0KGgoAAAANSUhEUgAAABwAAAAcCAAAAABXZoBIAA...</td>\n",
       "    </tr>\n",
       "    <tr>\n",
       "      <th>2</th>\n",
       "      <td>[[0, 0, 0, 0, 0, 0, 0, 0, 0, 0, 0, 0, 0, 0, 0,...</td>\n",
       "      <td>4</td>\n",
       "      <td>1</td>\n",
       "      <td>iVBORw0KGgoAAAANSUhEUgAAABwAAAAcCAAAAABXZoBIAA...</td>\n",
       "    </tr>\n",
       "    <tr>\n",
       "      <th>3</th>\n",
       "      <td>[[0, 0, 0, 0, 0, 0, 0, 0, 0, 0, 0, 0, 0, 0, 0,...</td>\n",
       "      <td>1</td>\n",
       "      <td>1</td>\n",
       "      <td>iVBORw0KGgoAAAANSUhEUgAAABwAAAAcCAAAAABXZoBIAA...</td>\n",
       "    </tr>\n",
       "    <tr>\n",
       "      <th>4</th>\n",
       "      <td>[[0, 0, 0, 0, 0, 0, 0, 0, 0, 0, 0, 0, 0, 0, 0,...</td>\n",
       "      <td>9</td>\n",
       "      <td>1</td>\n",
       "      <td>iVBORw0KGgoAAAANSUhEUgAAABwAAAAcCAAAAABXZoBIAA...</td>\n",
       "    </tr>\n",
       "    <tr>\n",
       "      <th>...</th>\n",
       "      <td>...</td>\n",
       "      <td>...</td>\n",
       "      <td>...</td>\n",
       "      <td>...</td>\n",
       "    </tr>\n",
       "    <tr>\n",
       "      <th>69995</th>\n",
       "      <td>[[0, 0, 0, 0, 0, 0, 0, 0, 0, 0, 0, 0, 0, 0, 0,...</td>\n",
       "      <td>2</td>\n",
       "      <td>0</td>\n",
       "      <td>iVBORw0KGgoAAAANSUhEUgAAABwAAAAcCAAAAABXZoBIAA...</td>\n",
       "    </tr>\n",
       "    <tr>\n",
       "      <th>69996</th>\n",
       "      <td>[[0, 0, 0, 0, 0, 0, 0, 0, 0, 0, 0, 0, 0, 0, 0,...</td>\n",
       "      <td>3</td>\n",
       "      <td>0</td>\n",
       "      <td>iVBORw0KGgoAAAANSUhEUgAAABwAAAAcCAAAAABXZoBIAA...</td>\n",
       "    </tr>\n",
       "    <tr>\n",
       "      <th>69997</th>\n",
       "      <td>[[0, 0, 0, 0, 0, 0, 0, 0, 0, 0, 0, 0, 0, 0, 0,...</td>\n",
       "      <td>4</td>\n",
       "      <td>0</td>\n",
       "      <td>iVBORw0KGgoAAAANSUhEUgAAABwAAAAcCAAAAABXZoBIAA...</td>\n",
       "    </tr>\n",
       "    <tr>\n",
       "      <th>69998</th>\n",
       "      <td>[[0, 0, 0, 0, 0, 0, 0, 0, 0, 0, 0, 0, 0, 0, 0,...</td>\n",
       "      <td>5</td>\n",
       "      <td>0</td>\n",
       "      <td>iVBORw0KGgoAAAANSUhEUgAAABwAAAAcCAAAAABXZoBIAA...</td>\n",
       "    </tr>\n",
       "    <tr>\n",
       "      <th>69999</th>\n",
       "      <td>[[0, 0, 0, 0, 0, 0, 0, 0, 0, 0, 0, 0, 0, 0, 0,...</td>\n",
       "      <td>6</td>\n",
       "      <td>0</td>\n",
       "      <td>iVBORw0KGgoAAAANSUhEUgAAABwAAAAcCAAAAABXZoBIAA...</td>\n",
       "    </tr>\n",
       "  </tbody>\n",
       "</table>\n",
       "<p>70000 rows × 4 columns</p>\n",
       "</div>"
      ],
      "text/plain": [
       "                                                   image  label  is_train  \\\n",
       "0      [[0, 0, 0, 0, 0, 0, 0, 0, 0, 0, 0, 0, 0, 0, 0,...      5         1   \n",
       "1      [[0, 0, 0, 0, 0, 0, 0, 0, 0, 0, 0, 0, 0, 0, 0,...      0         1   \n",
       "2      [[0, 0, 0, 0, 0, 0, 0, 0, 0, 0, 0, 0, 0, 0, 0,...      4         1   \n",
       "3      [[0, 0, 0, 0, 0, 0, 0, 0, 0, 0, 0, 0, 0, 0, 0,...      1         1   \n",
       "4      [[0, 0, 0, 0, 0, 0, 0, 0, 0, 0, 0, 0, 0, 0, 0,...      9         1   \n",
       "...                                                  ...    ...       ...   \n",
       "69995  [[0, 0, 0, 0, 0, 0, 0, 0, 0, 0, 0, 0, 0, 0, 0,...      2         0   \n",
       "69996  [[0, 0, 0, 0, 0, 0, 0, 0, 0, 0, 0, 0, 0, 0, 0,...      3         0   \n",
       "69997  [[0, 0, 0, 0, 0, 0, 0, 0, 0, 0, 0, 0, 0, 0, 0,...      4         0   \n",
       "69998  [[0, 0, 0, 0, 0, 0, 0, 0, 0, 0, 0, 0, 0, 0, 0,...      5         0   \n",
       "69999  [[0, 0, 0, 0, 0, 0, 0, 0, 0, 0, 0, 0, 0, 0, 0,...      6         0   \n",
       "\n",
       "                                            image_base64  \n",
       "0      iVBORw0KGgoAAAANSUhEUgAAABwAAAAcCAAAAABXZoBIAA...  \n",
       "1      iVBORw0KGgoAAAANSUhEUgAAABwAAAAcCAAAAABXZoBIAA...  \n",
       "2      iVBORw0KGgoAAAANSUhEUgAAABwAAAAcCAAAAABXZoBIAA...  \n",
       "3      iVBORw0KGgoAAAANSUhEUgAAABwAAAAcCAAAAABXZoBIAA...  \n",
       "4      iVBORw0KGgoAAAANSUhEUgAAABwAAAAcCAAAAABXZoBIAA...  \n",
       "...                                                  ...  \n",
       "69995  iVBORw0KGgoAAAANSUhEUgAAABwAAAAcCAAAAABXZoBIAA...  \n",
       "69996  iVBORw0KGgoAAAANSUhEUgAAABwAAAAcCAAAAABXZoBIAA...  \n",
       "69997  iVBORw0KGgoAAAANSUhEUgAAABwAAAAcCAAAAABXZoBIAA...  \n",
       "69998  iVBORw0KGgoAAAANSUhEUgAAABwAAAAcCAAAAABXZoBIAA...  \n",
       "69999  iVBORw0KGgoAAAANSUhEUgAAABwAAAAcCAAAAABXZoBIAA...  \n",
       "\n",
       "[70000 rows x 4 columns]"
      ]
     },
     "execution_count": 6,
     "metadata": {},
     "output_type": "execute_result"
    }
   ],
   "source": [
    "data"
   ]
  },
  {
   "cell_type": "code",
   "execution_count": 7,
   "metadata": {},
   "outputs": [],
   "source": [
    "data[[\"image_base64\",\"label\",\"is_train\"]].to_excel(\"MNIST.xlsx\",index=False)"
   ]
  },
  {
   "cell_type": "code",
   "execution_count": 8,
   "metadata": {},
   "outputs": [
    {
     "name": "stdout",
     "output_type": "stream",
     "text": [
      "3\n"
     ]
    },
    {
     "data": {
      "text/html": [
       "<img width=100 src=\"data:image/png;base64, iVBORw0KGgoAAAANSUhEUgAAABwAAAAcCAAAAABXZoBIAAABEUlEQVQoFX3BTSiDAQDH4d+/LAfmorg5sQM52C4uo1hKc3DYykWKoxxkragdfKQ4cKWctOSIMgftJg6rcZHDSnJwcCAtjbSmvR97t3f1Po/wIDwID8KD8CA8iKrAYW6PWM/BMw1E1UQGVYCTzGURh6gKZdtVvGO0tZK/Wf3FJgx94eW/IP3jkShPM49YhMXv+wB8Q6nJl14swmXgtmM2jUm4vXXPpTEJl8iFprKYhMt2cv4Yi2iU2HoYxibq+WOp1+g3NuEIhJc6cwuf1AjH/eDX4il1hGN6LVQqrJ9RI+q0xY/4iV9hEw26zoMtmzslTMIlueFL7GMSbiu7xbE8BtGkXJm8xiCalN9HChiEB+HhH5PUQB3M4tyJAAAAAElFTkSuQmCC \"/>"
      ],
      "text/plain": [
       "<IPython.core.display.HTML object>"
      ]
     },
     "metadata": {},
     "output_type": "display_data"
    },
    {
     "name": "stdout",
     "output_type": "stream",
     "text": [
      "9\n"
     ]
    },
    {
     "data": {
      "text/html": [
       "<img width=100 src=\"data:image/png;base64, iVBORw0KGgoAAAANSUhEUgAAABwAAAAcCAAAAABXZoBIAAABK0lEQVQoFX3BzyuDARzA4c9Xm1+1g3YQJRf5B4Ti4riU7KS1ZrYotpSQ3LaEHJYhJbULS3FRRPYPLCKtNA5bSu3ksoyDktnsZfa+2/Q+j6BD0CHoEHQIOgQdgg6hTM+sLc/b0lYOhaBhsK63PecfWzr6r1AIGlM7RIZyNN5G5lEIqt4T02D8BRpuUsNZCgTVgX3FB5iDo3fdWQqEEtv+qeud1pkJQ9STQiGU+P3bUUt9e19uepdfQsnAscnwaeTDF6BI0OgyO+3p5XCGIkGjLuSIue4pEVTNAceRN4NKUIXGzxaSaAh/asIjl+4ntIQi49pcbOyBMkLRnjNhTVBO+NHk9cXtSSoIirrNyXN3mkpCQa1n49D7ShWhwHIRXPyimgCd18HVHP8QdHwDPXhOHX2SFxwAAAAASUVORK5CYII= \"/>"
      ],
      "text/plain": [
       "<IPython.core.display.HTML object>"
      ]
     },
     "metadata": {},
     "output_type": "display_data"
    },
    {
     "name": "stdout",
     "output_type": "stream",
     "text": [
      "5\n"
     ]
    },
    {
     "data": {
      "text/html": [
       "<img width=100 src=\"data:image/png;base64, iVBORw0KGgoAAAANSUhEUgAAABwAAAAcCAAAAABXZoBIAAAA/0lEQVQoFX3BsSuEYQDH8e8PJb2Z3uUyECWSRWRRyqQo1MvAYjNeGa7LYDBgIpQ/4Qx3ZWBgkaIUpUhkQ8YbTnS9EZfleZ/3fW94Ph/hIByEg3AQDsIKig0fpeP3OywRaX7JbIy0d34vFWoYItJ0NeRXWrOLT7O/GMI6nPErbK9WsYS1mfcrpAgrKGbKpIjYz/I+KSL29jkckiRi2Z2JU5JErOuhcW+tSkwkjB60Hc2HWCKpY3cqt4UlUlpuertfiYi0vrOLhT8MUedk3AsxRJ31FS/EEHVKgRdiCKunkDsn83w5XcMQ1uD11/3jQP/YLRERmwzmKOXLWMJBOAiHf7+4Ph1p+W2IAAAAAElFTkSuQmCC \"/>"
      ],
      "text/plain": [
       "<IPython.core.display.HTML object>"
      ]
     },
     "metadata": {},
     "output_type": "display_data"
    },
    {
     "name": "stdout",
     "output_type": "stream",
     "text": [
      "8\n"
     ]
    },
    {
     "data": {
      "text/html": [
       "<img width=100 src=\"data:image/png;base64, iVBORw0KGgoAAAANSUhEUgAAABwAAAAcCAAAAABXZoBIAAABOklEQVQoFX3BTyiDYQAH4N/PTJlxmZZ2EJcdycGBFktRklqOHJChrZVclrKDm1o5aDiQ0koOkqwc/Ws5zBIOw205jFKLTW2T2axv9u3dDu/zEBKEBCFBSBDVml3m4Ut7HAVElWW3HsBNDwqICkaPM/lgfM/1D14AIEQ1W3OfXS/1aX1T/BsAIah1rX2NBqEiBJYrWIMoIwROX1oPASE4HPNPQ9uY+EURUWZ4MriPfYbu08kPKAiBfwKvJpyEN5NQEALnBpi3BVBCqHReuxb3fak8SoiShoORn6j52pqDivjXet4eXYjdUpeBiihq2xnYX4y3xJ47s1ARCp3XcWfJaNYdnlWUEQrb0ePQm2ZvPK2HgFDsToUtpqX5lO0MAkKxPZOI9GYDKxGICEVHqA6h2QgqERKEBCFBSPwB8JtVHTnX6RsAAAAASUVORK5CYII= \"/>"
      ],
      "text/plain": [
       "<IPython.core.display.HTML object>"
      ]
     },
     "metadata": {},
     "output_type": "display_data"
    },
    {
     "name": "stdout",
     "output_type": "stream",
     "text": [
      "5\n"
     ]
    },
    {
     "data": {
      "text/html": [
       "<img width=100 src=\"data:image/png;base64, iVBORw0KGgoAAAANSUhEUgAAABwAAAAcCAAAAABXZoBIAAABVklEQVQoFX3BzSvDcRzA8feHtINakadM0pIDGklJbuYhNfJQTg4eLhx2cCWJkjQ5kKQk4cIJZebh5KLWDmv/gEiZdhFra5nN9/f7TYz6vV6CCcGEYEIwIWR4uwmdswKfMchPJlAEQ8VtJYqkiRzDyENrAhAM7Vexpf6qYkmju+n9AATD0ZDPRXUj+W7s1tfTjSCKoLP5S30uDM1F4SA6QVfuL/O5+EswHA29z+1FySYYGs5szK7HySJkLMxCxBPf4hchI7fOVwISPb/Z5ZvwY8rZaU0Bh4v3KTRCFrezpRg4mHlGEf6wDg7Xl3MwkQKE/0Z3iNjjgKCrcYwF5jH07BewMY0iaGrXOgLzl2gcTZ4Cnpa3UQQl76Rt0vsGDOQ5BwrhqS+ERlC6vB+PaOw5aXjZ3A2jExTLnQODpLlYCJAhaCz9znEgcJ1cJZHkm2BCMCGYEEx8AZj5XR2PCdX6AAAAAElFTkSuQmCC \"/>"
      ],
      "text/plain": [
       "<IPython.core.display.HTML object>"
      ]
     },
     "metadata": {},
     "output_type": "display_data"
    },
    {
     "name": "stdout",
     "output_type": "stream",
     "text": [
      "7\n"
     ]
    },
    {
     "data": {
      "text/html": [
       "<img width=100 src=\"data:image/png;base64, iVBORw0KGgoAAAANSUhEUgAAABwAAAAcCAAAAABXZoBIAAABHklEQVQoFX3BMUgCYQCG4fdbQhBqE4TIBhchLNwcEioKIUiEoCDaG4smCRqizSWolpaCJiNJoimiIrcmIReHhsBoEDIEQSj688zTO4d7HuFBeBAehAfhQXgQHsSAwGQq4ctnsAiH+Oj0RCiETCNapU10+P0klhaGh2QAGVYvaROW+EkEGUCljzNyphGt0iYssScfMq3TcvGtyX7G1IJYREfiOFcvvGPxl8K/m4dYxADfeVqPyW8sYkDolWb6ng7hFriJsVzgn3DLpyhP0SVcdvZ4XvykSziFK+YrUsMmHMYfxlprBXpE38hVQgfb9Im+2Vuu15v0iZ5Y0VefecFB2EYu5kje4SRs2S2T3f3BSdiONmpB3IRtJVuZx014+ANmYkkdLZ+uRAAAAABJRU5ErkJggg== \"/>"
      ],
      "text/plain": [
       "<IPython.core.display.HTML object>"
      ]
     },
     "metadata": {},
     "output_type": "display_data"
    },
    {
     "name": "stdout",
     "output_type": "stream",
     "text": [
      "6\n"
     ]
    },
    {
     "data": {
      "text/html": [
       "<img width=100 src=\"data:image/png;base64, iVBORw0KGgoAAAANSUhEUgAAABwAAAAcCAAAAABXZoBIAAABKklEQVQoFX3BIUwCUQDH4d+fqFHOkSAKkyQaZdikHW5GG7BpcZrEzabSnNPgOZpmTpPZTZMBiuO6JHdYbfrUJ8M3w32fSCASiAQigfjjvUbzuMRE4S4bFXGJia4vk4lxiDGvtW1u/ZUHHOKXt93qVUeFCJf41bwwmRH/CKt0N71xw3/CCur9JcbKefLlQTsCYXX99RCrtF8zMqnP1M4pwvqIiliFZ/MYdfD8ZpxBWJ+Xm/zIPXlxJQLWusEmwvqIz4/4drj3Vu0B1/57tYewgoaiSkz53qyHFFb3ZgcHIQgre1Izw86osWC2aun8lGm33wEx5l2VZmRkZIZxO8QSE9n09dxb2OFlxJhwBI2tSxzCEdTPdnEIR9DoL+IQjuxy7hiHSCASiAQiwRf6CV4dnr18ZwAAAABJRU5ErkJggg== \"/>"
      ],
      "text/plain": [
       "<IPython.core.display.HTML object>"
      ]
     },
     "metadata": {},
     "output_type": "display_data"
    },
    {
     "name": "stdout",
     "output_type": "stream",
     "text": [
      "1\n"
     ]
    },
    {
     "data": {
      "text/html": [
       "<img width=100 src=\"data:image/png;base64, iVBORw0KGgoAAAANSUhEUgAAABwAAAAcCAAAAABXZoBIAAAA80lEQVQoFX3BvyvEYQDH8feHG1CUwY/pBrM/wHUliXLDLTJeWWTye2FgMDBYdNSV5bJTRrrLH2C4DLpFlFzKLTJYSE59fz7PMzyvl/AQHsJDeAgP4Vq4aE8+EhCu7wyFGgHhGH3tplAjIBzlFZ4nPggI21hjgM0TQsK2WOVrukFIWLrux9kqExGW4zU6S+dEhCl3NURllZgwZO+Gqaz/EROpnrMS1/M/JERqd59W8YGUSORv+pirYxCJz36eZloYRKx4mXnPv2ASkcHmyO/eERYR2TngdAObCOXqvc3ZNjYR2j4k+4ZDhG6nlqsdHMJDeAiPf47iNB385pf4AAAAAElFTkSuQmCC \"/>"
      ],
      "text/plain": [
       "<IPython.core.display.HTML object>"
      ]
     },
     "metadata": {},
     "output_type": "display_data"
    },
    {
     "name": "stdout",
     "output_type": "stream",
     "text": [
      "1\n"
     ]
    },
    {
     "data": {
      "text/html": [
       "<img width=100 src=\"data:image/png;base64, iVBORw0KGgoAAAANSUhEUgAAABwAAAAcCAAAAABXZoBIAAAA8klEQVQoFX3BvyuEcQDH8fen1GVgEoONbjxM/gLOj5skpUvPfKWk1I0y89SZb/EMp8xK8VxJdItkNTDZ/CiUYqPHfZ/nvt9HfV8v4SE8hIfwEB7in8LhROWehMgbmLwkaJEQeeVTCFokhKt/ZXeY5+UOCeGauoW31TZ/hGNnbQzCOl3CVroa5Oms9k2XsPQ11uGoSkpYNhs/XCx9kBKWeIaX8U8yoqdyMHS9HdMjMrPHBWpNLCKzt8XD9DsWkRo9Lz4u3GETqY195to4hDESl14Xb3AII4iYj3EJI4g65S9cwgiiekiOMIonzZAc4SE8hMcv5QI0HbcrhYEAAAAASUVORK5CYII= \"/>"
      ],
      "text/plain": [
       "<IPython.core.display.HTML object>"
      ]
     },
     "metadata": {},
     "output_type": "display_data"
    },
    {
     "name": "stdout",
     "output_type": "stream",
     "text": [
      "3\n"
     ]
    },
    {
     "data": {
      "text/html": [
       "<img width=100 src=\"data:image/png;base64, iVBORw0KGgoAAAANSUhEUgAAABwAAAAcCAAAAABXZoBIAAABNUlEQVQoFX3BPyiEcRzA4c/3GLwpXTFarojBiYTYkIXhjqJcdIZTds6mlDAof0oMqBsoComSlHdTsjAciUEGFgPRES7n9brf3XvU73kEDUFD0BA0BA1BQ8iQX1jciBHEHDcBwcHV3V9LUhYgKLlhf5GB5f7dA/utgKBURsp4NI+inC362Ai9AEJKQ/NU/An87QGZWT/BImTq8g5kR4cPY/wQHMTn7+F5Ye6eX0JaU18Hr2s7uyhCUl5vRVseXHq/SBFsOd7ZWmx7nW8ogm1oAmV6EEWwlZ7Hr1evdnDfZa0EUQSbUf1xDORv19O5iSI4uA+qiIQSKEJawViIaOCcFEEx3Fs18fByjDQhqWW0xLgNmTgJlgHqyj2u+NLIAxkES+ILPrcmT/lDsMwnuNm74B9BQ9D4BrOFTx1t4S22AAAAAElFTkSuQmCC \"/>"
      ],
      "text/plain": [
       "<IPython.core.display.HTML object>"
      ]
     },
     "metadata": {},
     "output_type": "display_data"
    }
   ],
   "source": [
    "for i in range(500,510):\n",
    "    print(data['label'][i])\n",
    "    display(HTML(f\"<img width=100 src=\\\"data:image/png;base64, {data['image_base64'][i]} \\\"/>\"))\n",
    "    "
   ]
  }
 ],
 "metadata": {
  "kernelspec": {
   "display_name": "Python 3",
   "language": "python",
   "name": "python3"
  },
  "language_info": {
   "codemirror_mode": {
    "name": "ipython",
    "version": 3
   },
   "file_extension": ".py",
   "mimetype": "text/x-python",
   "name": "python",
   "nbconvert_exporter": "python",
   "pygments_lexer": "ipython3",
   "version": "3.8.0"
  },
  "orig_nbformat": 4
 },
 "nbformat": 4,
 "nbformat_minor": 2
}
