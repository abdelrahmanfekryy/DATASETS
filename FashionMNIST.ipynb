{
 "cells": [
  {
   "cell_type": "code",
   "execution_count": 1,
   "metadata": {},
   "outputs": [],
   "source": [
    "from torchvision import datasets\n",
    "import idx2numpy\n",
    "import numpy as np\n",
    "import pandas as pd\n",
    "import base64\n",
    "import cv2\n",
    "from IPython.display import display,HTML"
   ]
  },
  {
   "cell_type": "code",
   "execution_count": 2,
   "metadata": {},
   "outputs": [
    {
     "data": {
      "text/plain": [
       "Dataset FashionMNIST\n",
       "    Number of datapoints: 60000\n",
       "    Root location: FashionMNIST\n",
       "    Split: Train"
      ]
     },
     "execution_count": 2,
     "metadata": {},
     "output_type": "execute_result"
    }
   ],
   "source": [
    "datasets.FashionMNIST(\"FashionMNIST\", download=True)"
   ]
  },
  {
   "cell_type": "code",
   "execution_count": 3,
   "metadata": {},
   "outputs": [],
   "source": [
    "x_train = idx2numpy.convert_from_file(\"FashionMNIST/FashionMNIST/raw/train-images-idx3-ubyte\")\n",
    "y_train = idx2numpy.convert_from_file(\"FashionMNIST/FashionMNIST/raw/train-labels-idx1-ubyte\")\n",
    "x_test = idx2numpy.convert_from_file(\"FashionMNIST/FashionMNIST/raw/t10k-images-idx3-ubyte\")\n",
    "y_test = idx2numpy.convert_from_file(\"FashionMNIST/FashionMNIST/raw/t10k-labels-idx1-ubyte\")"
   ]
  },
  {
   "cell_type": "code",
   "execution_count": 4,
   "metadata": {},
   "outputs": [
    {
     "data": {
      "text/html": [
       "<div>\n",
       "<style scoped>\n",
       "    .dataframe tbody tr th:only-of-type {\n",
       "        vertical-align: middle;\n",
       "    }\n",
       "\n",
       "    .dataframe tbody tr th {\n",
       "        vertical-align: top;\n",
       "    }\n",
       "\n",
       "    .dataframe thead th {\n",
       "        text-align: right;\n",
       "    }\n",
       "</style>\n",
       "<table border=\"1\" class=\"dataframe\">\n",
       "  <thead>\n",
       "    <tr style=\"text-align: right;\">\n",
       "      <th></th>\n",
       "      <th>image</th>\n",
       "      <th>label</th>\n",
       "      <th>is_train</th>\n",
       "    </tr>\n",
       "  </thead>\n",
       "  <tbody>\n",
       "    <tr>\n",
       "      <th>0</th>\n",
       "      <td>[[0, 0, 0, 0, 0, 0, 0, 0, 0, 0, 0, 0, 0, 0, 0,...</td>\n",
       "      <td>9</td>\n",
       "      <td>1</td>\n",
       "    </tr>\n",
       "    <tr>\n",
       "      <th>1</th>\n",
       "      <td>[[0, 0, 0, 0, 0, 1, 0, 0, 0, 0, 41, 188, 103, ...</td>\n",
       "      <td>0</td>\n",
       "      <td>1</td>\n",
       "    </tr>\n",
       "    <tr>\n",
       "      <th>2</th>\n",
       "      <td>[[0, 0, 0, 0, 0, 0, 0, 0, 0, 22, 118, 24, 0, 0...</td>\n",
       "      <td>0</td>\n",
       "      <td>1</td>\n",
       "    </tr>\n",
       "    <tr>\n",
       "      <th>3</th>\n",
       "      <td>[[0, 0, 0, 0, 0, 0, 0, 0, 33, 96, 175, 156, 64...</td>\n",
       "      <td>3</td>\n",
       "      <td>1</td>\n",
       "    </tr>\n",
       "    <tr>\n",
       "      <th>4</th>\n",
       "      <td>[[0, 0, 0, 0, 0, 0, 0, 0, 0, 0, 0, 0, 0, 0, 0,...</td>\n",
       "      <td>0</td>\n",
       "      <td>1</td>\n",
       "    </tr>\n",
       "    <tr>\n",
       "      <th>...</th>\n",
       "      <td>...</td>\n",
       "      <td>...</td>\n",
       "      <td>...</td>\n",
       "    </tr>\n",
       "    <tr>\n",
       "      <th>69995</th>\n",
       "      <td>[[0, 0, 0, 0, 0, 0, 0, 0, 0, 0, 0, 0, 0, 0, 0,...</td>\n",
       "      <td>9</td>\n",
       "      <td>0</td>\n",
       "    </tr>\n",
       "    <tr>\n",
       "      <th>69996</th>\n",
       "      <td>[[0, 0, 0, 0, 0, 0, 0, 0, 0, 31, 52, 98, 94, 8...</td>\n",
       "      <td>1</td>\n",
       "      <td>0</td>\n",
       "    </tr>\n",
       "    <tr>\n",
       "      <th>69997</th>\n",
       "      <td>[[0, 0, 0, 0, 0, 0, 0, 0, 0, 0, 0, 0, 0, 30, 6...</td>\n",
       "      <td>8</td>\n",
       "      <td>0</td>\n",
       "    </tr>\n",
       "    <tr>\n",
       "      <th>69998</th>\n",
       "      <td>[[0, 0, 0, 0, 0, 0, 0, 0, 0, 0, 0, 164, 137, 1...</td>\n",
       "      <td>1</td>\n",
       "      <td>0</td>\n",
       "    </tr>\n",
       "    <tr>\n",
       "      <th>69999</th>\n",
       "      <td>[[0, 0, 0, 0, 0, 0, 0, 0, 0, 0, 0, 0, 0, 0, 0,...</td>\n",
       "      <td>5</td>\n",
       "      <td>0</td>\n",
       "    </tr>\n",
       "  </tbody>\n",
       "</table>\n",
       "<p>70000 rows × 3 columns</p>\n",
       "</div>"
      ],
      "text/plain": [
       "                                                   image  label  is_train\n",
       "0      [[0, 0, 0, 0, 0, 0, 0, 0, 0, 0, 0, 0, 0, 0, 0,...      9         1\n",
       "1      [[0, 0, 0, 0, 0, 1, 0, 0, 0, 0, 41, 188, 103, ...      0         1\n",
       "2      [[0, 0, 0, 0, 0, 0, 0, 0, 0, 22, 118, 24, 0, 0...      0         1\n",
       "3      [[0, 0, 0, 0, 0, 0, 0, 0, 33, 96, 175, 156, 64...      3         1\n",
       "4      [[0, 0, 0, 0, 0, 0, 0, 0, 0, 0, 0, 0, 0, 0, 0,...      0         1\n",
       "...                                                  ...    ...       ...\n",
       "69995  [[0, 0, 0, 0, 0, 0, 0, 0, 0, 0, 0, 0, 0, 0, 0,...      9         0\n",
       "69996  [[0, 0, 0, 0, 0, 0, 0, 0, 0, 31, 52, 98, 94, 8...      1         0\n",
       "69997  [[0, 0, 0, 0, 0, 0, 0, 0, 0, 0, 0, 0, 0, 30, 6...      8         0\n",
       "69998  [[0, 0, 0, 0, 0, 0, 0, 0, 0, 0, 0, 164, 137, 1...      1         0\n",
       "69999  [[0, 0, 0, 0, 0, 0, 0, 0, 0, 0, 0, 0, 0, 0, 0,...      5         0\n",
       "\n",
       "[70000 rows x 3 columns]"
      ]
     },
     "execution_count": 4,
     "metadata": {},
     "output_type": "execute_result"
    }
   ],
   "source": [
    "train = pd.DataFrame({\"image\":x_train.tolist(),\"label\":y_train,\"is_train\":1})\n",
    "test = pd.DataFrame({\"image\":x_test.tolist(),\"label\":y_test,\"is_train\":0})\n",
    "data = pd.concat([train,test],axis=0,ignore_index=True)\n",
    "data"
   ]
  },
  {
   "cell_type": "code",
   "execution_count": 5,
   "metadata": {},
   "outputs": [],
   "source": [
    "data['image_base64'] = data['image'].apply(lambda x : base64.b64encode(cv2.imencode('.png',np.array(x))[1].tobytes()).decode('utf-8'))\n",
    "data[\"label\"] = data[\"label\"].replace({0:\"T-shirt/top\",1:\"Trouser\",2:\"Pullover\",3:\"Dress\",4:\"Coat\",5:\"Sandal\",6:\"Shirt\",7:\"Sneaker\",8:\"Bag\",9:\"Ankle boot\"})"
   ]
  },
  {
   "cell_type": "code",
   "execution_count": 6,
   "metadata": {},
   "outputs": [
    {
     "data": {
      "text/html": [
       "<div>\n",
       "<style scoped>\n",
       "    .dataframe tbody tr th:only-of-type {\n",
       "        vertical-align: middle;\n",
       "    }\n",
       "\n",
       "    .dataframe tbody tr th {\n",
       "        vertical-align: top;\n",
       "    }\n",
       "\n",
       "    .dataframe thead th {\n",
       "        text-align: right;\n",
       "    }\n",
       "</style>\n",
       "<table border=\"1\" class=\"dataframe\">\n",
       "  <thead>\n",
       "    <tr style=\"text-align: right;\">\n",
       "      <th></th>\n",
       "      <th>image</th>\n",
       "      <th>label</th>\n",
       "      <th>is_train</th>\n",
       "      <th>image_base64</th>\n",
       "    </tr>\n",
       "  </thead>\n",
       "  <tbody>\n",
       "    <tr>\n",
       "      <th>0</th>\n",
       "      <td>[[0, 0, 0, 0, 0, 0, 0, 0, 0, 0, 0, 0, 0, 0, 0,...</td>\n",
       "      <td>Ankle boot</td>\n",
       "      <td>1</td>\n",
       "      <td>iVBORw0KGgoAAAANSUhEUgAAABwAAAAcCAAAAABXZoBIAA...</td>\n",
       "    </tr>\n",
       "    <tr>\n",
       "      <th>1</th>\n",
       "      <td>[[0, 0, 0, 0, 0, 1, 0, 0, 0, 0, 41, 188, 103, ...</td>\n",
       "      <td>T-shirt/top</td>\n",
       "      <td>1</td>\n",
       "      <td>iVBORw0KGgoAAAANSUhEUgAAABwAAAAcCAAAAABXZoBIAA...</td>\n",
       "    </tr>\n",
       "    <tr>\n",
       "      <th>2</th>\n",
       "      <td>[[0, 0, 0, 0, 0, 0, 0, 0, 0, 22, 118, 24, 0, 0...</td>\n",
       "      <td>T-shirt/top</td>\n",
       "      <td>1</td>\n",
       "      <td>iVBORw0KGgoAAAANSUhEUgAAABwAAAAcCAAAAABXZoBIAA...</td>\n",
       "    </tr>\n",
       "    <tr>\n",
       "      <th>3</th>\n",
       "      <td>[[0, 0, 0, 0, 0, 0, 0, 0, 33, 96, 175, 156, 64...</td>\n",
       "      <td>Dress</td>\n",
       "      <td>1</td>\n",
       "      <td>iVBORw0KGgoAAAANSUhEUgAAABwAAAAcCAAAAABXZoBIAA...</td>\n",
       "    </tr>\n",
       "    <tr>\n",
       "      <th>4</th>\n",
       "      <td>[[0, 0, 0, 0, 0, 0, 0, 0, 0, 0, 0, 0, 0, 0, 0,...</td>\n",
       "      <td>T-shirt/top</td>\n",
       "      <td>1</td>\n",
       "      <td>iVBORw0KGgoAAAANSUhEUgAAABwAAAAcCAAAAABXZoBIAA...</td>\n",
       "    </tr>\n",
       "    <tr>\n",
       "      <th>...</th>\n",
       "      <td>...</td>\n",
       "      <td>...</td>\n",
       "      <td>...</td>\n",
       "      <td>...</td>\n",
       "    </tr>\n",
       "    <tr>\n",
       "      <th>69995</th>\n",
       "      <td>[[0, 0, 0, 0, 0, 0, 0, 0, 0, 0, 0, 0, 0, 0, 0,...</td>\n",
       "      <td>Ankle boot</td>\n",
       "      <td>0</td>\n",
       "      <td>iVBORw0KGgoAAAANSUhEUgAAABwAAAAcCAAAAABXZoBIAA...</td>\n",
       "    </tr>\n",
       "    <tr>\n",
       "      <th>69996</th>\n",
       "      <td>[[0, 0, 0, 0, 0, 0, 0, 0, 0, 31, 52, 98, 94, 8...</td>\n",
       "      <td>Trouser</td>\n",
       "      <td>0</td>\n",
       "      <td>iVBORw0KGgoAAAANSUhEUgAAABwAAAAcCAAAAABXZoBIAA...</td>\n",
       "    </tr>\n",
       "    <tr>\n",
       "      <th>69997</th>\n",
       "      <td>[[0, 0, 0, 0, 0, 0, 0, 0, 0, 0, 0, 0, 0, 30, 6...</td>\n",
       "      <td>Bag</td>\n",
       "      <td>0</td>\n",
       "      <td>iVBORw0KGgoAAAANSUhEUgAAABwAAAAcCAAAAABXZoBIAA...</td>\n",
       "    </tr>\n",
       "    <tr>\n",
       "      <th>69998</th>\n",
       "      <td>[[0, 0, 0, 0, 0, 0, 0, 0, 0, 0, 0, 164, 137, 1...</td>\n",
       "      <td>Trouser</td>\n",
       "      <td>0</td>\n",
       "      <td>iVBORw0KGgoAAAANSUhEUgAAABwAAAAcCAAAAABXZoBIAA...</td>\n",
       "    </tr>\n",
       "    <tr>\n",
       "      <th>69999</th>\n",
       "      <td>[[0, 0, 0, 0, 0, 0, 0, 0, 0, 0, 0, 0, 0, 0, 0,...</td>\n",
       "      <td>Sandal</td>\n",
       "      <td>0</td>\n",
       "      <td>iVBORw0KGgoAAAANSUhEUgAAABwAAAAcCAAAAABXZoBIAA...</td>\n",
       "    </tr>\n",
       "  </tbody>\n",
       "</table>\n",
       "<p>70000 rows × 4 columns</p>\n",
       "</div>"
      ],
      "text/plain": [
       "                                                   image        label  \\\n",
       "0      [[0, 0, 0, 0, 0, 0, 0, 0, 0, 0, 0, 0, 0, 0, 0,...   Ankle boot   \n",
       "1      [[0, 0, 0, 0, 0, 1, 0, 0, 0, 0, 41, 188, 103, ...  T-shirt/top   \n",
       "2      [[0, 0, 0, 0, 0, 0, 0, 0, 0, 22, 118, 24, 0, 0...  T-shirt/top   \n",
       "3      [[0, 0, 0, 0, 0, 0, 0, 0, 33, 96, 175, 156, 64...        Dress   \n",
       "4      [[0, 0, 0, 0, 0, 0, 0, 0, 0, 0, 0, 0, 0, 0, 0,...  T-shirt/top   \n",
       "...                                                  ...          ...   \n",
       "69995  [[0, 0, 0, 0, 0, 0, 0, 0, 0, 0, 0, 0, 0, 0, 0,...   Ankle boot   \n",
       "69996  [[0, 0, 0, 0, 0, 0, 0, 0, 0, 31, 52, 98, 94, 8...      Trouser   \n",
       "69997  [[0, 0, 0, 0, 0, 0, 0, 0, 0, 0, 0, 0, 0, 30, 6...          Bag   \n",
       "69998  [[0, 0, 0, 0, 0, 0, 0, 0, 0, 0, 0, 164, 137, 1...      Trouser   \n",
       "69999  [[0, 0, 0, 0, 0, 0, 0, 0, 0, 0, 0, 0, 0, 0, 0,...       Sandal   \n",
       "\n",
       "       is_train                                       image_base64  \n",
       "0             1  iVBORw0KGgoAAAANSUhEUgAAABwAAAAcCAAAAABXZoBIAA...  \n",
       "1             1  iVBORw0KGgoAAAANSUhEUgAAABwAAAAcCAAAAABXZoBIAA...  \n",
       "2             1  iVBORw0KGgoAAAANSUhEUgAAABwAAAAcCAAAAABXZoBIAA...  \n",
       "3             1  iVBORw0KGgoAAAANSUhEUgAAABwAAAAcCAAAAABXZoBIAA...  \n",
       "4             1  iVBORw0KGgoAAAANSUhEUgAAABwAAAAcCAAAAABXZoBIAA...  \n",
       "...         ...                                                ...  \n",
       "69995         0  iVBORw0KGgoAAAANSUhEUgAAABwAAAAcCAAAAABXZoBIAA...  \n",
       "69996         0  iVBORw0KGgoAAAANSUhEUgAAABwAAAAcCAAAAABXZoBIAA...  \n",
       "69997         0  iVBORw0KGgoAAAANSUhEUgAAABwAAAAcCAAAAABXZoBIAA...  \n",
       "69998         0  iVBORw0KGgoAAAANSUhEUgAAABwAAAAcCAAAAABXZoBIAA...  \n",
       "69999         0  iVBORw0KGgoAAAANSUhEUgAAABwAAAAcCAAAAABXZoBIAA...  \n",
       "\n",
       "[70000 rows x 4 columns]"
      ]
     },
     "execution_count": 6,
     "metadata": {},
     "output_type": "execute_result"
    }
   ],
   "source": [
    "data"
   ]
  },
  {
   "cell_type": "code",
   "execution_count": 7,
   "metadata": {},
   "outputs": [],
   "source": [
    "data[[\"image_base64\",\"label\",\"is_train\"]].to_excel(\"FashionMNIST.xlsx\",index=False)"
   ]
  },
  {
   "cell_type": "code",
   "execution_count": 13,
   "metadata": {},
   "outputs": [
    {
     "name": "stdout",
     "output_type": "stream",
     "text": [
      "Dress\n"
     ]
    },
    {
     "data": {
      "text/html": [
       "<img width=100 src=\"data:image/png;base64, iVBORw0KGgoAAAANSUhEUgAAABwAAAAcCAAAAABXZoBIAAACJklEQVQoFS3BTUgUUQAH8P//zcyu1urmt6IpFNFJj7GHig5FUEZCENGtAjtIlzCKgi6FSBghhBCW0CE6RIgfFIlEFEgESR7CUARFa8uPbTWbbXZm3uvtm/39iIgVAlVv+qdSvTeeAVaIAsIQEj3tjTbKXc+KX++HFUIjioZPb0jlCWUJp3w6BYOIiMxflQuq887vjXq5t3MQBUSk7aM7k93ftFW2PNXQ2jhyFgVE5MLQqufEPMJxcqp8oQ0FRGSgM+N4AajglObjbh0KiMiHA5ulOakUlFOymVjfhwIislK9UlqRJSCTfyY7/EoUEJHFmrlfx36QDHa/H7uTPzwDjTCqFuJTX6+s2KDfNPau1+t+BI0wDr2yXs/eWrIt/mt5Mj7s9t+ERhhdfXIieSRNn6Lx88ue7RcXoRHG/S7ve3JnQElUzT+9m588CY0wnp/bhqcQWAxozx4M3h6HRhgTR72cG1qgCP2S+jD4koJGGNOtzPhSEEIFSCSC+TZohDHXHFtTICAkhJNQ31qhEcZiTTwrpACooFQ5l/dAI4ylpO36FJCgEtaOYLMZGmFkKrwtAUIBkiJprdZBI4zUz9vn10sITfkVDx/nlqARRfe60zEFgiqsuzQEgzDsYPTUekySQOjX9l1zfGhE0fiJNRsgEYa1D64KCY0oGm1PW6AFqcKGgS47gEYYVGPta2WuFLayvcqRDiGhEUWDZ+ayLTHXUUzv+nQZxn+ge9gd2Gn+yQAAAABJRU5ErkJggg== \"/>"
      ],
      "text/plain": [
       "<IPython.core.display.HTML object>"
      ]
     },
     "metadata": {},
     "output_type": "display_data"
    },
    {
     "name": "stdout",
     "output_type": "stream",
     "text": [
      "Pullover\n"
     ]
    },
    {
     "data": {
      "text/html": [
       "<img width=100 src=\"data:image/png;base64, iVBORw0KGgoAAAANSUhEUgAAABwAAAAcCAAAAABXZoBIAAACl0lEQVQoFU3BYUhVZxzA4d/7djwnuTuIZSaXS93JCsIirMslqo2+CMU2NmKTsg9RRhKTkOWHmoUf2oiinGwrFiMuAxljc+KaLETMIggRisLkQqKRC5dayeXscD3nvP7ptI2151H8T+Mjk/qB1xSvvfNzd3HvoWv8R/GvN1aX1WVq3OFb+empOf6h+Fvtm2XB8+Vlx9Jn8vMuUhjgFcUrO967W3Asy3cXihYl2Kmwk5giZv8yWIjE2A9PpfdkAtG6dNe5EUARe//QgPvCN9bMFvdqymh7mZ2cPg8oYs1bb1U89bV4ldb4MrRdIdXOEUARa0/fL58qigTuEk9bpsqNKlY0AopYh5nfetUQGQ2h5VRXTvhvNwCKWG5q7uvPfIlCEEhT3zP6UT2giHUPm5onnl6IQjR20sveH9v/AaCIXfvprTup5V4YhGgtq7y5tbcPNISgiPXnsn3bEs8k9EVrs6o4vPvmvoN/gQJWftmX7cmWz5sgRGuTmr3d2F939k9QQO3esY257akZAtFihcnx8YO9tb/lQQE7duZrvt1dPmkL4jtU/TF6uG/dveuggPpMvrrjqJl1AiEoobww1DKw+tmPoIBWZ2JD2ymv6Hho37Gwek7crJQroIAWma5tOz0TlBZDHVFC8lLrSJV8Bwpo0c+TZy4+ME4UIlGpTredeJTgCiigWVP4vms4Qgyy6LCutUkXnBwooDlwJ37tvqF9BFks8bPH313zNHEZFND2eP2l6a5+WzCyyBIve6Fyz2iyExTwxeSmT9ae/L1MtDGg/Y25qc9Hkl+BAtpn13zaUNdbIYAQFDODNzpGE9+AAjqN29T0ce9S0SKiCTJDXblJqx0UsDmxMKI/XOpS6hutC/P24MIWX8bgJTH0GyzidnChAAAAAElFTkSuQmCC \"/>"
      ],
      "text/plain": [
       "<IPython.core.display.HTML object>"
      ]
     },
     "metadata": {},
     "output_type": "display_data"
    },
    {
     "name": "stdout",
     "output_type": "stream",
     "text": [
      "Shirt\n"
     ]
    },
    {
     "data": {
      "text/html": [
       "<img width=100 src=\"data:image/png;base64, iVBORw0KGgoAAAANSUhEUgAAABwAAAAcCAAAAABXZoBIAAAChklEQVQoFWXBSWhUdxzA8e/v/5bMS8YkzmQZTVKXgIiiIOJBTA8GRVC0KHhS7E0KLqCCG+JyEDG44UIvXlrpoSAuVakoXqq2IJQWjIdqFXUUM85LHomTSTLv/f9/Jwoq+PkIH4gYviZ8ICjN0Z0UWldfcbXlI+GTjif6r86pCKAM4wTEUpXZuyOUc0tmyqOeayCWKgFlgHuLRsql1hSvnRxcW4UygACO5m7XS7HpVDnlR6OOm9t6xjEWBPDizv+iGNwkxnGsk2RMHeOEcTeXhVoliRf71qBc07z9FFXCuHepfFpjlHETHVjjevXz/lUGoepGtx6pjcSKeDHGax4wTec3AgJ0/l8ZbPDDGMRLrNT2tQ/VpQUQqvKZkjyfV1RivVg3DO3+6WVtw/yHIMCEZyrT+8uRvO/omljXNHa8Kurc9z+DAE+n9+XuXzr+IhCTkrFKm0SNbyatvQgCrL9QaP3n9s7ngbLi2XKbPJ3+Nvt4FgiQb45yu9zD+RTW0V6pQ24s79ctM54g0J7vdxtWLNn2xremtuSMdsyfdH1opHX57wgE5cHhyd37uvtcTN2wNm17enTExJYiApvOhjR1/ZoddNRYeixJ2n/7zhaC+kyEwIGDoV+/4MGAFYmDWJvGctvI8HDLjhMILPyzOCE+cCx0kCSoJI5tlnLwtmXNZQS2nO73/TtLQ19EB5VElabUPZran918DgExQ85gNLtosdbXiZjJi0/OiZrm9CJAz7Y4/CbMjrlGlEVX0nJ1ZSG34QIC7D/0LvComTGtqcYY98XfBU5uHvVSIEDXocW9c/nSiuvRqnsgVP34w/0uFILCYnEq3/4xkAWEqnXrLp3nM2WcWwNrgfdWmAos0fcNygAAAABJRU5ErkJggg== \"/>"
      ],
      "text/plain": [
       "<IPython.core.display.HTML object>"
      ]
     },
     "metadata": {},
     "output_type": "display_data"
    },
    {
     "name": "stdout",
     "output_type": "stream",
     "text": [
      "Trouser\n"
     ]
    },
    {
     "data": {
      "text/html": [
       "<img width=100 src=\"data:image/png;base64, iVBORw0KGgoAAAANSUhEUgAAABwAAAAcCAAAAABXZoBIAAAB+0lEQVQoFT3BXUhTYRwH4N9/GjkNm9EmzVmTfagVG6cPBzXFRDSJshY4UTMwWDSaRlRGQRBlUVFB0W76GohldlF5l0YfkBdRXUgG1k3qXBYy59HttGxjwXvec56HoBoRn0W+VJcU7fzsgYyg8u1fm5AqZyNLcw2QEVRnCjGnsc3O/5noh4yg2NP29d/yLakx2OoCvWAICr8tLX53Ng4YfhvDPWAIiq7c+RXpgsMDS58yztNgCBzdXYzTaFXFx+jiSs1ZMATOUJlnyCXv2wUNTOFuMATOvi5p0Wlbn0YknSF6GwyBKxXS0+VV33LiQwZLMgSGwFntUsba7jkmDZvXT4XAEDiHOZZqNXquJvrsG6cfgSFwwuqF/FP3+48bH2Tv+DEIhsA59WJxoGWmxRXcvq33HRgC5zLFSuv3otn1MOkLjYEhcO5No0LRSXhrb+q8XZAROJMlvit+A+6OnhJ7EDICt6pG3Gepx9bOC5v1tyAjKA6KQnkTandfrwu/hIygOFKYrTsKT81Q2eMwZARFoCzmaEo2u38KB5KQERQNjb+q26cObZDMbeAICmt31HRx/NIyqbgDHEGRdy3hOPfh3owWJ8ARVFdS+S9evR/RT56nDBiCKljwt2/49cSa0JOsNBiC6o42a/zyYEzXOQmOoLL4ct4891dIfij+A7jdoR1ds4n/AAAAAElFTkSuQmCC \"/>"
      ],
      "text/plain": [
       "<IPython.core.display.HTML object>"
      ]
     },
     "metadata": {},
     "output_type": "display_data"
    },
    {
     "name": "stdout",
     "output_type": "stream",
     "text": [
      "T-shirt/top\n"
     ]
    },
    {
     "data": {
      "text/html": [
       "<img width=100 src=\"data:image/png;base64, iVBORw0KGgoAAAANSUhEUgAAABwAAAAcCAAAAABXZoBIAAACKUlEQVQoFW3BX2iNYRzA8e/vec5/BzX701myjUxp5FAoy9WURKY0N9slws3udiHlRlKulJJygyauLGoj7MIFm1zYaKWtdNhf22nNzpnznvd5Hu95nVz5fIR/ui5NjBZih3Rfnirhr47eozpfA+4XeuT65DfEgRDKZYqr5ZJJ4G+YuTaebR4bJCBU3Do7rUQr50nL0754c9lvffYdECq8n75YxE/XX767va6MzcwNAUJA+9OAWmlcf+ZVVqO0S8b7ASFw4P2MdWqtZflkbicoTCydeGBACPTcn9Hmd2O+QzX7iLhidsm9mQUh0Hu1mCz5tfvNNk87EouZ03fqPkyBEBg4SMyTG0/2eApF+mt38t6OyVEQAp/ra6fH2vdtjRjtVITFE0399fPPQaiI71ruab2yew2rrVb6Y9uQWECoOh8dyfhiIs5PpR97hISAElXe0r4QU8YRKeuGwbmojwMhpGyyc8lFtDVR4ze+nNWGgBBSNnlqIaKNRatSw9ucNgSEkLK1x/IJa7DEVzeMT2hDQAgpG9+bV04ZYiLxpSllCQghbbJdxbiJRsquuFYantCGgBASd/tIIVIjVmTRJV9fICRU3Txcsr4W51w0NXKRkFD1sK2gjBJrlaRGzxESKsTxYtNKwgGCt/FLNyGhQhzDSU+BgCOV6yQkVIjjUVPZgUKsSswfJyRUiGNgc1kh4DDrPvUQEirE8e5HTRQVs45SodClLAHhvwQH/AEXr94dWFAG+AAAAABJRU5ErkJggg== \"/>"
      ],
      "text/plain": [
       "<IPython.core.display.HTML object>"
      ]
     },
     "metadata": {},
     "output_type": "display_data"
    },
    {
     "name": "stdout",
     "output_type": "stream",
     "text": [
      "Pullover\n"
     ]
    },
    {
     "data": {
      "text/html": [
       "<img width=100 src=\"data:image/png;base64, iVBORw0KGgoAAAANSUhEUgAAABwAAAAcCAAAAABXZoBIAAAChUlEQVQoFU3Ba0hTcRgH4N97dnXztrykWKGSFTbD0iSVoCQpZuhI0tRGlIlUEi2sDxL4IfSLWUJ0UTCxm2aatzAsBIVVECmmoRWRl8xp4oqtpvOcndP+s6DnIfxlCrzub4dH1ET+x0F4EVadH64pGN22aBBmxmeGSwyXl+BBWNX/7WpNb1NU7NKg4lW+f3EiGILXoencLaay4LHpwMjQaoMpd3szPAhe5nKzb1mbXeI4jTXLnt5pUMCDsCrtiqU6TpT7ySaCPuNuUxUYgpd021IcIy44nYqIANVkxZqb0RMACF6J5Un1lUtaX43ixxySbrkaa+FBYBQlXYVJO/35L25FSMBXy2zn5ndvARCY4IV597NLdq0cokMMTz4TFp3RA4CwKr5UkxC2yMuJfJYbQ5+2gSEwZRVTYysXbAInk8PGlezTR7QeBkDwik8dy02NFHmnU1RRvzn7DhgCU7mrPqTouM3ByTV+gcsHgoxh3ZkACIwxR3MtLSWcuJXfDpcwXnWsxQoPAmMM/GDMquJnSa3Qgc8ayVvfVASAwNRmfDqd4Rulc9l+Cpzbdi9nbmgSAIGJ2TGvP9cpLouclmT81kdHgurqABCY+1kdDbFSkGRXSS63Wtadua75JQACsynWmp3wnXfxIkTBEdOaonvYB4DAVJ98PKW1qghKueAjhryJS67sBEBgUhOn1+p5pfMXyQXRGTCQ4PdkCACBubi/IWLDEsCD41z8xua9uyu6ABAYU0Gv/eiI2i1IatnKit6cp+ywACAw2Tv7XmSPzkscBOiC/QduKNt7ABCYU3u0B/GfduvzDgAEJiX9fRs4CV4kotT3dS8AAlN4YvAs/iEJD8JaagH8AZG47h3iuYNFAAAAAElFTkSuQmCC \"/>"
      ],
      "text/plain": [
       "<IPython.core.display.HTML object>"
      ]
     },
     "metadata": {},
     "output_type": "display_data"
    },
    {
     "name": "stdout",
     "output_type": "stream",
     "text": [
      "Shirt\n"
     ]
    },
    {
     "data": {
      "text/html": [
       "<img width=100 src=\"data:image/png;base64, iVBORw0KGgoAAAANSUhEUgAAABwAAAAcCAAAAABXZoBIAAACV0lEQVQoFS3BzUsUcRjA8e/vGZefuwzmshWyJRao6CW8SCGLJb2Adgh6IyqpDh6FDkX/QZci6NAhgi6LF4MOJeIlKBAhCpFAdgPJxF6GlWV1GHZ2mPWhHfPzMfwn2tbsufT2mHf1aVOU/wx7RIGXFxY/DB+v3QJEaTHsc6fuxnZzvpBNN98UA/YY9kxc6mvzvdSXwZ9DVaez7/vzr7QYEv3lhT81SxCJL257kLMnxn1RDIkXZ5ecekzVreOkQ1E78mMSMCTmI7upsR8hkWi+KoN/uu6FYGgZffC3r1LRnWZct6r5tYu7S+PP5sDQ8iK/kUt5wU5EnAInffmD11N5DAZw50qR7VmtBSGSYrfLGV2uxoXpdQzwcLDWzPUv+kEkKVFyen3Bc7OVxxjgSU/4acxdIiTdrEPm0InVtdEguo+hZWBqe3JlVYNYAicdddmh2kbtfRkMe3Kjt73vutvewPW7Dve++rRFi2Hfx2/LKXEDtZE9dPpcU0AxJESZL5WF7E6YbYS5sel1UcCQEOVd6YdVN4jcuN598s6WKGDYN7ey5mKj+gEa3UM3t0UBw77Z1Uo2tPU4g3/01MWmKGBIiFIshR2+xI5IlBs7o6KAISHKTDnoqNo4cmPNFc4jChgSosyU6x1babbzPp3DE4gChoQoxZLVzSNx7XDDsSevhKKAISFKsZT1/IGtXQehMFkVBQwJUWbKQeOg+9sl7JCRG1VRwJAQZXa50h0RiNVM28i1bVHAkBCVuc+a9py20CWdHb72SxQwJER57WV+B+3EEve2B48QBf4BBsEMLNzB3OAAAAAASUVORK5CYII= \"/>"
      ],
      "text/plain": [
       "<IPython.core.display.HTML object>"
      ]
     },
     "metadata": {},
     "output_type": "display_data"
    },
    {
     "name": "stdout",
     "output_type": "stream",
     "text": [
      "Pullover\n"
     ]
    },
    {
     "data": {
      "text/html": [
       "<img width=100 src=\"data:image/png;base64, iVBORw0KGgoAAAANSUhEUgAAABwAAAAcCAAAAABXZoBIAAACWklEQVQoFX3Bz0uTcRwH8Pfn+zzPnvmrpvNxTi1lzoIQJA8h9ksEiTpUh8yQwv+gHxdDKgw75Eko6GB0KKgoCoQ8digiSGPYJec2Z0NDrM3m3Jxzz7bn03dKUJdeL8KOE/YvxKV5zV7uys2FsIOw7doYik7XPAKYYjXYRgCI+8dXSrY2FN1RE1vZrFV2T15EEaFo2r1WZsQ3WbNYrcYP1StADBCK1lfTXO5c3yBLM6wowTj3XlgAQVKzC1bBctjSprVLiWm2rOvhECSC5IgvqEmb6crkRdWSqli2skgnJILU+jbTuJbI2bWkkU3ZdSNuGnZIBOnMOCVHHkdsNlPfVET18FCqoTIBgCBdvaV+7uGQBjUPUutOPs/pA5MACNL9/pIHgzyvCGLQ1v6BUU15ehkAQZrscJ59w99IEEMxPT1jTQVfDwCCFKgyWsIcsGNbk3Gv75fqBECQEnknNYdnKxiS2UJ9L1ZqBQCCFHRX0N3rwVIUJVupMr5cr5sAQQrXKzbfgWWNAJDZfP4V/3R5FwCCFHH729OZFAlIhQZ/G6+bx+cAgrRUN9FrRbMQDDA0N308mD4SAgjS4p47w7xcIALIUnN79Sujq8eCAEEKey494yWVAQIr6eaO1NdoVwAgSIF9hz/xogqAwGra0/2OY51hgCAFPUaCI0oORbrpufCS147OAgQp2Gg3onEFEIKBnGPkNqe6fQBBCjWU2v3fiTmbESys9ptPOH3qA0AAqqeNrhn8Y8Y7MAEQgLYp/ZBPWPjLvPd1L0AAvCPKjbCw8AexmIr6BwHCf/wGycroHdjTgMAAAAAASUVORK5CYII= \"/>"
      ],
      "text/plain": [
       "<IPython.core.display.HTML object>"
      ]
     },
     "metadata": {},
     "output_type": "display_data"
    },
    {
     "name": "stdout",
     "output_type": "stream",
     "text": [
      "Dress\n"
     ]
    },
    {
     "data": {
      "text/html": [
       "<img width=100 src=\"data:image/png;base64, iVBORw0KGgoAAAANSUhEUgAAABwAAAAcCAAAAABXZoBIAAACQUlEQVQoFTXBT0gUURwH8O9vZnZ2dvYPbFq2C1JmEESnMosUOqUpgQgR2FlI+kNFWB2CLkIqdSiQsCg6RBQSSFBKpxI6JBV1SD2IuimFrrubq/vHmTfvNe+tfT6ELbrgGNCC4++gkYcKQoXBgGedesA89A3QPSiE/2517J34nmtrXrz3GBqHRJACbvNIfKPI5oyaaDg0c6wYcOEjVEzuz+jCNcEMlOtendU4fISKlO1qDqwSNwXCU01QCEpsznMFCYLQGFmFOigEpfHjmsbACTzgmppen4NEUE6PpAvVG8L0uGFN11a1fIBEUC49mDyz8MuwGBcJe+z4xSFIBGXg+pNukQqGNj19Bw2dH+6BRFBedJ17JBaNSJmbceoYfXsKEkF5f+Jo540VL1LyrHj/8PyXw5AIyufGlivtaQTKZMbvDy4t7IFEUGbrW4NvlsKcad7OntE/q/ty8BGkwO9tfUdal03BiGLp3qdO+yf4CFLNLDMcEjxYILuspRNW93P4CFLDRMnKW8Ihi5klLyTs/tvwEaSTrze1koViUMSKgjnR2Msu+AjShbsFvRxiPJJJ5nSH2/aPBvgI0tW+guGaXsTLJrME1+L5OvgI0uC1debZxTBbT2ZIc6Ims+EjSHdurkCEN6J8LZElYRRT+Tb4CFvEarAY9fLJVXKrH16GQqiIzXOzFOGFmgyJ8FQDFIJksMRMKZSP6Pntf6EFfjZBIUimc/Br2QKQqQKEmD4AhSDpHnrD0V27g7XjYjmVHVuB8g8h1+gd4DCO8wAAAABJRU5ErkJggg== \"/>"
      ],
      "text/plain": [
       "<IPython.core.display.HTML object>"
      ]
     },
     "metadata": {},
     "output_type": "display_data"
    },
    {
     "name": "stdout",
     "output_type": "stream",
     "text": [
      "Dress\n"
     ]
    },
    {
     "data": {
      "text/html": [
       "<img width=100 src=\"data:image/png;base64, iVBORw0KGgoAAAANSUhEUgAAABwAAAAcCAAAAABXZoBIAAAB8klEQVQoFT3BT0hUQQAH4N9vZp6bbq0pSmZURocuXYIoiw51sKCMitD1FEiIYgvVxUMFdagOghJ16dKlQwlBxBYJFRUdKi8hdAiiMhcJdGVrZVn/vDcz8d6Mfh+xprvz1cdfh49uGJ2CR6yawEptYaKvqPl1AA7hnR38VysyqaJcWm4YeYkE4d08UEktReurSlUzk0NIEN6DrboYmGURoDE13YsE4T1TsmyhsS5sK9lOJAjvbSVdirQNalRroeUgEoQjP5RSC6E2Sqbrylv2W8QIZ9PzuYn2srYKrWMd2079QYxw9l1feH2uACvErls99Tc+I0Y4Xf0/v5+YJog9V3d3jL5AjHCGhu5v3FGyVNHOvB6+eBcxYpV4UwSFXFHyNC0SxKrGd98CIRDZtr3wCEfqY5fKNVLYUNflfqsIMcIRpjf7NyVpbJjJ/ZAaMcIRJttXCmgAXd8/JTVihCN1+3BJGUPYdO+M1IgRjtSbx6qwJK05qWkRIxxaNS6WKYxQxR7QIkY4tHjaVIWIRHr+DDzCocWj7RUEWme+5OARa/ItZVtrFpsej9AiQay5d2he1pjF5jsPpUaC8ILwWnYuUGax6fYTYZAgPBVdPj9LBNXmC5+EQYLwgnDwyoxsnQ0buieDEAnCo0XX8er7I8yPgxaJ/7+guR3JiUGnAAAAAElFTkSuQmCC \"/>"
      ],
      "text/plain": [
       "<IPython.core.display.HTML object>"
      ]
     },
     "metadata": {},
     "output_type": "display_data"
    }
   ],
   "source": [
    "for i in range(500,510):\n",
    "    print(data['label'][i])\n",
    "    display(HTML(f\"<img width=100 src=\\\"data:image/png;base64, {data['image_base64'][i]} \\\"/>\"))\n",
    "    "
   ]
  }
 ],
 "metadata": {
  "kernelspec": {
   "display_name": "Python 3",
   "language": "python",
   "name": "python3"
  },
  "language_info": {
   "codemirror_mode": {
    "name": "ipython",
    "version": 3
   },
   "file_extension": ".py",
   "mimetype": "text/x-python",
   "name": "python",
   "nbconvert_exporter": "python",
   "pygments_lexer": "ipython3",
   "version": "3.8.0"
  },
  "orig_nbformat": 4
 },
 "nbformat": 4,
 "nbformat_minor": 2
}
